{
  "nbformat": 4,
  "nbformat_minor": 0,
  "metadata": {
    "colab": {
      "provenance": [],
      "authorship_tag": "ABX9TyN5hhjrio4oYSIgelKMn5/D",
      "include_colab_link": true
    },
    "kernelspec": {
      "name": "python3",
      "display_name": "Python 3"
    },
    "language_info": {
      "name": "python"
    }
  },
  "cells": [
    {
      "cell_type": "markdown",
      "metadata": {
        "id": "view-in-github",
        "colab_type": "text"
      },
      "source": [
        "<a href=\"https://colab.research.google.com/github/joestarcsz/My_IA_chat/blob/main/Untitled1.ipynb\" target=\"_parent\"><img src=\"https://colab.research.google.com/assets/colab-badge.svg\" alt=\"Open In Colab\"/></a>"
      ]
    },
    {
      "cell_type": "code",
      "source": [
        "pip install -U -q google-generativeai"
      ],
      "metadata": {
        "id": "gl9iA2yEiRM4"
      },
      "execution_count": 17,
      "outputs": []
    },
    {
      "cell_type": "code",
      "execution_count": 27,
      "metadata": {
        "id": "GbB0i3fScXJy"
      },
      "outputs": [],
      "source": [
        "\n",
        "import google.generativeai as genai\n",
        "\n",
        "API_KEY=(\"cole aqui sua API_key\")\n",
        "genai.configure(api_key=API_KEY)"
      ]
    },
    {
      "cell_type": "code",
      "source": [
        "for m in genai.list_models():\n",
        " if 'generateContent' in m.supported_generation_methods:\n",
        "    print(m.name)"
      ],
      "metadata": {
        "colab": {
          "base_uri": "https://localhost:8080/",
          "height": 139
        },
        "id": "I0N9AGbog4IS",
        "outputId": "b52f4583-d663-4544-84e6-d37f7ce1387d"
      },
      "execution_count": 28,
      "outputs": [
        {
          "output_type": "stream",
          "name": "stdout",
          "text": [
            "models/gemini-1.0-pro\n",
            "models/gemini-1.0-pro-001\n",
            "models/gemini-1.0-pro-latest\n",
            "models/gemini-1.0-pro-vision-latest\n",
            "models/gemini-1.5-pro-latest\n",
            "models/gemini-pro\n",
            "models/gemini-pro-vision\n"
          ]
        }
      ]
    },
    {
      "cell_type": "code",
      "source": [
        "generation_config = {\n",
        "    \"candidate_count\": 1,\n",
        "    \"temperature\": 0.5,\n",
        "}"
      ],
      "metadata": {
        "id": "hRFo0egKlAen"
      },
      "execution_count": 29,
      "outputs": []
    },
    {
      "cell_type": "code",
      "source": [
        "safety_settings = {\n",
        "    \"HARASSMENT\": \"BLOCK_NONE\",\n",
        "    \"HATE\": \"BLOCK_NONE\",\n",
        "    \"SEXUAL\": \"BLOCK_NONE\",\n",
        "    \"DANGEROUS\": \"BLOCK_NONE\",\n",
        "}"
      ],
      "metadata": {
        "id": "wd4BLNRjlcR0"
      },
      "execution_count": 30,
      "outputs": []
    },
    {
      "cell_type": "markdown",
      "source": [
        "Inicializando o modelo"
      ],
      "metadata": {
        "id": "rw94rngKm8eo"
      }
    },
    {
      "cell_type": "code",
      "source": [
        "model = genai.GenerativeModel(model_name=\"gemini-1.0-pro\",\n",
        "                              safety_settings=safety_settings,\n",
        "                              generation_config=generation_config)"
      ],
      "metadata": {
        "id": "QF97mfrD0C2f"
      },
      "execution_count": 21,
      "outputs": []
    },
    {
      "cell_type": "code",
      "source": [
        "response = model.generate_content(\"vou fazer a prova do Enem.Me dê sugestões de assuntos.\")\n",
        "print(response.text)"
      ],
      "metadata": {
        "colab": {
          "base_uri": "https://localhost:8080/",
          "height": 763
        },
        "id": "V3pvg4Zv2xfz",
        "outputId": "2060f1fa-096a-472b-cb9f-f65370702f19"
      },
      "execution_count": 22,
      "outputs": [
        {
          "output_type": "stream",
          "name": "stdout",
          "text": [
            "**Linguagens, Códigos e suas Tecnologias**\n",
            "\n",
            "* Compreensão e interpretação de textos\n",
            "* Análise linguística e gramatical\n",
            "* Literatura brasileira e estrangeira\n",
            "* Língua inglesa\n",
            "* Tecnologias da informação e comunicação\n",
            "\n",
            "**Ciências Humanas e suas Tecnologias**\n",
            "\n",
            "* História do Brasil e do mundo\n",
            "* Geografia física e humana\n",
            "* Sociologia\n",
            "* Filosofia\n",
            "* Psicologia\n",
            "\n",
            "**Ciências da Natureza e suas Tecnologias**\n",
            "\n",
            "* Física\n",
            "* Química\n",
            "* Biologia\n",
            "* Matemática (incluindo geometria, álgebra e trigonometria)\n",
            "\n",
            "**Matemática e suas Tecnologias**\n",
            "\n",
            "* Números e operações\n",
            "* Álgebra\n",
            "* Geometria\n",
            "* Estatística e probabilidade\n",
            "\n",
            "**Redação**\n",
            "\n",
            "* Argumentação\n",
            "* Coesão e coerência\n",
            "* Clareza e objetividade\n",
            "* Uso da norma culta da língua portuguesa\n",
            "\n",
            "**Assuntos Interdisciplinares**\n",
            "\n",
            "* Meio ambiente e sustentabilidade\n",
            "* Cidadania e direitos humanos\n",
            "* Inovação e tecnologia\n",
            "* Cultura e diversidade\n"
          ]
        }
      ]
    },
    {
      "cell_type": "code",
      "source": [
        "chat = model.start_chat(history=[])"
      ],
      "metadata": {
        "id": "3vG0smTq4G0K"
      },
      "execution_count": 23,
      "outputs": []
    },
    {
      "cell_type": "code",
      "source": [
        "prompt = input(\"Esperando prompt: \")\n",
        "\n",
        "while prompt != \"fim\":\n",
        "  response = chat.send_message(prompt)\n",
        "  print(\"Resposta\" , response.text, \"\\n\")\n",
        "  prompt = input(\"Esperando prompt: \")"
      ],
      "metadata": {
        "colab": {
          "base_uri": "https://localhost:8080/",
          "height": 870
        },
        "id": "WBu_OIRJ4jEq",
        "outputId": "7053c7a3-0511-4705-b484-6e7ad570710a"
      },
      "execution_count": 32,
      "outputs": [
        {
          "name": "stdout",
          "output_type": "stream",
          "text": [
            "Esperando prompt: resumo da historia de Jojos bizarre adventure\n",
            "Resposta **Parte 1: Sangue Fantasma (1888-1889)**\n",
            "\n",
            "Jonathan Joestar, um gentil cavalheiro, descobre que seu pai adotivo, George Joestar, foi envenenado por seu irmão ilegítimo, Dio Brando. Dio, usando uma Máscara de Pedra, transforma-se em um vampiro e mata George e sua esposa. Jonathan jura vingança e, com a ajuda do mestre de Hamon Will A. Zeppeli, aprende a utilizar a energia da Hamon para combater Dio.\n",
            "\n",
            "**Parte 2: Tendência de Batalha (1938-1939)**\n",
            "\n",
            "Quase 50 anos depois, Joseph Joestar, neto de Jonathan, descobre que Dio sobreviveu. Ele se junta a Caesar Zeppeli, neto de Will, e embarca em uma jornada para detê-lo. Dio e seus asseclas os perseguem, levando a confrontos violentos e bizarros.\n",
            "\n",
            "**Parte 3: Cruzados do Pó Estelar (1987-1989)**\n",
            "\n",
            "Jotaro Kujo, neto de Joseph, é um delinquente do ensino médio que descobre sua linhagem Joestar e a habilidade chamada \"Stand\". Stands são manifestações físicas da energia vital de uma pessoa, com habilidades únicas. Jotaro e seus companheiros embarcam em uma jornada para o Egito para derrotar Dio de uma vez por todas.\n",
            "\n",
            "**Parte 4: Diamante é Inquebrável (1999)**\n",
            "\n",
            "Josuke Higashikata, um estudante do ensino médio que vive em Morioh, Japão, é filho ilegítimo de Joseph. Ele descobre seus poderes de Stand e investiga uma série de desaparecimentos misteriosos relacionados a um assassino em série com uma flecha que concede Stands.\n",
            "\n",
            "**Parte 5: Vento Dourado (2001)**\n",
            "\n",
            "Giorno Giovanna, filho de Dio, forma uma gangue chamada \"Passione\" em Nápoles, Itália. Ele aspira a derrubar o chefe da máfia e usá-la para o bem. Giorno e seus companheiros enfrentam uma série de obstáculos, incluindo Stands poderosos e traições inesperadas.\n",
            "\n",
            "**Parte 6: Pedra do Oceano (2011-2013)**\n",
            "\n",
            "Jolyne Cujoh, filha de Jotaro, é presa e enviada para uma prisão de segurança máxima. Ela descobre que seu pai está em perigo e luta para salvar sua vida, desvendando os segredos da Pedra do Oceano, uma relíquia poderosa que concede desejos.\n",
            "\n",
            "**Parte 7: Corrida em Bola de Aço (1890)**\n",
            "\n",
            "Ambientada em uma América alternativa do século XIX, esta parte segue a história de Johnny Joestar, um parapelegico que se junta a uma corrida transcontinental em busca de uma cura milagrosa. A corrida se torna uma jornada de autodescoberta e confrontos violentos com Stands e outros concorrentes.\n",
            "\n",
            "**Parte 8: JoJolion (2011-2021)**\n",
            "\n",
            "Gappy, um jovem com amnésia, descobre que é um membro da família Joestar e que possui dois Stands. Ele se envolve em uma investigação bizarra de uma série de assassinatos e segredos ocultos em Morioh, Japão. \n",
            "\n",
            "Esperando prompt: qual os protagonistas dos animes mais famosos\n",
            "Resposta **Naruto** - Naruto Uzumaki\n",
            "**One Piece** - Monkey D. Luffy\n",
            "**Bleach** - Ichigo Kurosaki\n",
            "**Dragon Ball Z** - Goku\n",
            "**Fullmetal Alchemist: Brotherhood** - Edward Elric\n",
            "**Death Note** - Light Yagami\n",
            "**Attack on Titan** - Eren Yeager\n",
            "**My Hero Academia** - Izuku Midoriya\n",
            "**Demon Slayer: Kimetsu no Yaiba** - Tanjiro Kamado\n",
            "**Jujutsu Kaisen** - Yuji Itadori\n",
            "**One Punch Man** - Saitama\n",
            "**Cowboy Bebop** - Spike Spiegel \n",
            "\n",
            "Esperando prompt: fim\n"
          ]
        }
      ]
    },
    {
      "cell_type": "code",
      "source": [
        "#melhorando a visualização\n",
        "import textwrap\n",
        "from IPython.display import display\n",
        "from IPython.display import Markdown\n",
        "\n",
        "\n",
        "def to_markdown(text):\n",
        "  text = text.replace('•', '  *')\n",
        "  return Markdown(textwrap.indent(text, '> ', predicate=lambda _: True))\n",
        "\n",
        "#imprimindo o histórico\n",
        "for message in chat.history:\n",
        "  display(to_markdown(f'**{message.role}**: {message.parts[0].text}'))\n",
        "  print('-------------------------------------------')"
      ],
      "metadata": {
        "colab": {
          "base_uri": "https://localhost:8080/",
          "height": 844
        },
        "id": "hB0zQo8KdQjl",
        "outputId": "544b5cbc-a0c9-4096-f346-b7321cdb565e"
      },
      "execution_count": 34,
      "outputs": [
        {
          "output_type": "display_data",
          "data": {
            "text/plain": [
              "<IPython.core.display.Markdown object>"
            ],
            "text/markdown": "> **user**: resumo da historia de Jojos bizarre adventure"
          },
          "metadata": {}
        },
        {
          "output_type": "stream",
          "name": "stdout",
          "text": [
            "-------------------------------------------\n"
          ]
        },
        {
          "output_type": "display_data",
          "data": {
            "text/plain": [
              "<IPython.core.display.Markdown object>"
            ],
            "text/markdown": "> **model**: **Parte 1: Sangue Fantasma (1888-1889)**\n> \n> Jonathan Joestar, um gentil cavalheiro, descobre que seu pai adotivo, George Joestar, foi envenenado por seu irmão ilegítimo, Dio Brando. Dio, usando uma Máscara de Pedra, transforma-se em um vampiro e mata George e sua esposa. Jonathan jura vingança e, com a ajuda do mestre de Hamon Will A. Zeppeli, aprende a utilizar a energia da Hamon para combater Dio.\n> \n> **Parte 2: Tendência de Batalha (1938-1939)**\n> \n> Quase 50 anos depois, Joseph Joestar, neto de Jonathan, descobre que Dio sobreviveu. Ele se junta a Caesar Zeppeli, neto de Will, e embarca em uma jornada para detê-lo. Dio e seus asseclas os perseguem, levando a confrontos violentos e bizarros.\n> \n> **Parte 3: Cruzados do Pó Estelar (1987-1989)**\n> \n> Jotaro Kujo, neto de Joseph, é um delinquente do ensino médio que descobre sua linhagem Joestar e a habilidade chamada \"Stand\". Stands são manifestações físicas da energia vital de uma pessoa, com habilidades únicas. Jotaro e seus companheiros embarcam em uma jornada para o Egito para derrotar Dio de uma vez por todas.\n> \n> **Parte 4: Diamante é Inquebrável (1999)**\n> \n> Josuke Higashikata, um estudante do ensino médio que vive em Morioh, Japão, é filho ilegítimo de Joseph. Ele descobre seus poderes de Stand e investiga uma série de desaparecimentos misteriosos relacionados a um assassino em série com uma flecha que concede Stands.\n> \n> **Parte 5: Vento Dourado (2001)**\n> \n> Giorno Giovanna, filho de Dio, forma uma gangue chamada \"Passione\" em Nápoles, Itália. Ele aspira a derrubar o chefe da máfia e usá-la para o bem. Giorno e seus companheiros enfrentam uma série de obstáculos, incluindo Stands poderosos e traições inesperadas.\n> \n> **Parte 6: Pedra do Oceano (2011-2013)**\n> \n> Jolyne Cujoh, filha de Jotaro, é presa e enviada para uma prisão de segurança máxima. Ela descobre que seu pai está em perigo e luta para salvar sua vida, desvendando os segredos da Pedra do Oceano, uma relíquia poderosa que concede desejos.\n> \n> **Parte 7: Corrida em Bola de Aço (1890)**\n> \n> Ambientada em uma América alternativa do século XIX, esta parte segue a história de Johnny Joestar, um parapelegico que se junta a uma corrida transcontinental em busca de uma cura milagrosa. A corrida se torna uma jornada de autodescoberta e confrontos violentos com Stands e outros concorrentes.\n> \n> **Parte 8: JoJolion (2011-2021)**\n> \n> Gappy, um jovem com amnésia, descobre que é um membro da família Joestar e que possui dois Stands. Ele se envolve em uma investigação bizarra de uma série de assassinatos e segredos ocultos em Morioh, Japão."
          },
          "metadata": {}
        },
        {
          "output_type": "stream",
          "name": "stdout",
          "text": [
            "-------------------------------------------\n"
          ]
        },
        {
          "output_type": "display_data",
          "data": {
            "text/plain": [
              "<IPython.core.display.Markdown object>"
            ],
            "text/markdown": "> **user**: qual os protagonistas dos animes mais famosos"
          },
          "metadata": {}
        },
        {
          "output_type": "stream",
          "name": "stdout",
          "text": [
            "-------------------------------------------\n"
          ]
        },
        {
          "output_type": "display_data",
          "data": {
            "text/plain": [
              "<IPython.core.display.Markdown object>"
            ],
            "text/markdown": "> **model**: **Naruto** - Naruto Uzumaki\n> **One Piece** - Monkey D. Luffy\n> **Bleach** - Ichigo Kurosaki\n> **Dragon Ball Z** - Goku\n> **Fullmetal Alchemist: Brotherhood** - Edward Elric\n> **Death Note** - Light Yagami\n> **Attack on Titan** - Eren Yeager\n> **My Hero Academia** - Izuku Midoriya\n> **Demon Slayer: Kimetsu no Yaiba** - Tanjiro Kamado\n> **Jujutsu Kaisen** - Yuji Itadori\n> **One Punch Man** - Saitama\n> **Cowboy Bebop** - Spike Spiegel"
          },
          "metadata": {}
        },
        {
          "output_type": "stream",
          "name": "stdout",
          "text": [
            "-------------------------------------------\n"
          ]
        }
      ]
    }
  ]
}